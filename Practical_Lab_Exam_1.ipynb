{
  "nbformat": 4,
  "nbformat_minor": 0,
  "metadata": {
    "colab": {
      "name": "Practical Lab Exam 1.ipynb",
      "provenance": [],
      "collapsed_sections": [],
      "authorship_tag": "ABX9TyMnw4PL7wMm+APHa+HVefpy",
      "include_colab_link": true
    },
    "kernelspec": {
      "name": "python3",
      "display_name": "Python 3"
    },
    "language_info": {
      "name": "python"
    }
  },
  "cells": [
    {
      "cell_type": "markdown",
      "metadata": {
        "id": "view-in-github",
        "colab_type": "text"
      },
      "source": [
        "<a href=\"https://colab.research.google.com/github/Ranniellsaur/Linear-algebra-58020/blob/main/Practical_Lab_Exam_1.ipynb\" target=\"_parent\"><img src=\"https://colab.research.google.com/assets/colab-badge.svg\" alt=\"Open In Colab\"/></a>"
      ]
    },
    {
      "cell_type": "markdown",
      "metadata": {
        "id": "YEvOWg22LkyY"
      },
      "source": [
        "## Practical Lab Exam 1"
      ]
    },
    {
      "cell_type": "code",
      "metadata": {
        "colab": {
          "base_uri": "https://localhost:8080/"
        },
        "id": "1BR_k0MqLmoJ",
        "outputId": "fcc44b8e-075a-420e-bd83-b3c77fa8666f"
      },
      "source": [
        "import numpy as np\n",
        "\n",
        "\n",
        "W = np.array([[1,-3], [2,-2],[3,1]])\n",
        "X = np.array([[3,2,1],[-1,2,3],[2,-1,1]])\n",
        "Y = np.array([[1,2,0],[0,-1,2]])\n",
        "Z = np.array([[0,1],[2,3]])\n",
        "\n",
        "# Problem 1\n",
        "\n",
        "# a. WY\n",
        "# b. Z+Z\n",
        "# c. 3X\n",
        "\n",
        "\n",
        "# Answer in a\n",
        "print(np.dot(W,Y))\n",
        "\n",
        "# Answer in b\n",
        "print(Z + Z)\n",
        "\n",
        "#Answer in  c\n",
        "print(3 * Z)\n",
        "print()\n",
        "\n",
        "\n",
        "# Problem 2 || Which of the ff. if true?\n",
        "\n",
        "# a. The product (YW^2) is not defined\n",
        "# b. WY - X\n",
        "# c. YW - Z^2\n",
        "\n",
        "\n",
        "# a. \n",
        "print('this is the answer of a')\n",
        "print(np.dot(Y,W) ** 2)\n",
        "\n",
        "# b. \n",
        "print('this is the answer of b')\n",
        "print(np.dot(W,Y) - X)\n",
        "\n",
        "\n",
        "# c.\n",
        "print('this is the answer of c')\n",
        "print(np.dot(Y,W) - Z ** 2)\n",
        "\n",
        "\n",
        "print('The right answer is b.')\n",
        "\n",
        "\n",
        "\n",
        "\n",
        "\n",
        "\n",
        "\n",
        "\n",
        "\n"
      ],
      "execution_count": 22,
      "outputs": [
        {
          "output_type": "stream",
          "name": "stdout",
          "text": [
            "[[ 1  5 -6]\n",
            " [ 2  6 -4]\n",
            " [ 3  5  2]]\n",
            "[[0 2]\n",
            " [4 6]]\n",
            "[[0 3]\n",
            " [6 9]]\n",
            "\n",
            "this is the answer of a\n",
            "[[25 49]\n",
            " [16 16]]\n",
            "this is the answer of b\n",
            "[[-2  3 -7]\n",
            " [ 3  4 -7]\n",
            " [ 1  6  1]]\n",
            "this is the answer of c\n",
            "[[ 5 -8]\n",
            " [ 0 -5]]\n"
          ]
        }
      ]
    }
  ]
}