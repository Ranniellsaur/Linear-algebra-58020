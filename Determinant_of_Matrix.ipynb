{
  "nbformat": 4,
  "nbformat_minor": 0,
  "metadata": {
    "colab": {
      "name": "Determinant of Matrix.ipynb",
      "provenance": [],
      "authorship_tag": "ABX9TyOjIhvNH6hLX+d0QeUCOcFq",
      "include_colab_link": true
    },
    "kernelspec": {
      "name": "python3",
      "display_name": "Python 3"
    },
    "language_info": {
      "name": "python"
    }
  },
  "cells": [
    {
      "cell_type": "markdown",
      "metadata": {
        "id": "view-in-github",
        "colab_type": "text"
      },
      "source": [
        "<a href=\"https://colab.research.google.com/github/Ranniellsaur/Linear-algebra-58020/blob/main/Determinant_of_Matrix.ipynb\" target=\"_parent\"><img src=\"https://colab.research.google.com/assets/colab-badge.svg\" alt=\"Open In Colab\"/></a>"
      ]
    },
    {
      "cell_type": "markdown",
      "metadata": {
        "id": "UyJrpMMUbmoe"
      },
      "source": [
        "## Determinant of Matrix"
      ]
    },
    {
      "cell_type": "code",
      "metadata": {
        "colab": {
          "base_uri": "https://localhost:8080/"
        },
        "id": "gC8s64a7Y0B9",
        "outputId": "cd6701db-e3e5-4bdc-c836-e0c905b78662"
      },
      "source": [
        "import numpy as np # import numpy module to use all of its functions/methods\n",
        "\n",
        "A = np.array([[1,2,-1],[4,6,-2],[-1,3,3]]) # create an 3x3 array\n",
        "print(np.linalg.det(A)) # prints the determinant of the given 3x3 array\n",
        "print(round(np.linalg.det(A))) # prints the round up answer."
      ],
      "execution_count": 2,
      "outputs": [
        {
          "output_type": "stream",
          "name": "stdout",
          "text": [
            "-13.999999999999996\n",
            "-14\n"
          ]
        }
      ]
    }
  ]
}