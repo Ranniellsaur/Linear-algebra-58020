{
  "nbformat": 4,
  "nbformat_minor": 0,
  "metadata": {
    "colab": {
      "name": "Prelim Exam.ipynb",
      "provenance": [],
      "authorship_tag": "ABX9TyNgqIDHjWJKICI12kZJGcGa",
      "include_colab_link": true
    },
    "kernelspec": {
      "name": "python3",
      "display_name": "Python 3"
    },
    "language_info": {
      "name": "python"
    }
  },
  "cells": [
    {
      "cell_type": "markdown",
      "metadata": {
        "id": "view-in-github",
        "colab_type": "text"
      },
      "source": [
        "<a href=\"https://colab.research.google.com/github/Ranniellsaur/Linear-algebra-58020/blob/main/Prelim_Exam.ipynb\" target=\"_parent\"><img src=\"https://colab.research.google.com/assets/colab-badge.svg\" alt=\"Open In Colab\"/></a>"
      ]
    },
    {
      "cell_type": "markdown",
      "metadata": {
        "id": "9Y53bBXOhmrF"
      },
      "source": [
        "# Prelim Exam"
      ]
    },
    {
      "cell_type": "markdown",
      "metadata": {
        "id": "DtPJx_G7iq33"
      },
      "source": [
        "## Question 1 : 4 x 4 matrix whose diagonal elements are all one (1's)."
      ]
    },
    {
      "cell_type": "code",
      "metadata": {
        "colab": {
          "base_uri": "https://localhost:8080/"
        },
        "id": "0ZCYyAgWitlv",
        "outputId": "c056ed71-4acb-4735-b76f-b43d43445d28"
      },
      "source": [
        "import numpy as np\n",
        "# Create 4 x 4 matrix whose diagonal elements are all one (1's).\n",
        "\n",
        "# 1st solution\n",
        "C = np.diagonal([[1,2,3,4],[2,1,3,4],[3,2,1,4],[4,3,2,1]])\n",
        "print(C) # this will only print all the diagonal elements which has a value of 1\n",
        "\n",
        "# 2nd solution\n",
        "C = np.zeros((4,4))\n",
        "np.fill_diagonal(C,1)\n",
        "print(c) # this will print the entire 4x4 matrix \n",
        "\n"
      ],
      "execution_count": 4,
      "outputs": [
        {
          "output_type": "stream",
          "name": "stdout",
          "text": [
            "[1 1 1 1]\n",
            "[[1. 0. 0. 0.]\n",
            " [0. 1. 0. 0.]\n",
            " [0. 0. 1. 0.]\n",
            " [0. 0. 0. 1.]]\n"
          ]
        }
      ]
    },
    {
      "cell_type": "markdown",
      "metadata": {
        "id": "Pw0ZkpOjnP89"
      },
      "source": [
        "## Question 2 :  show a solution that doubles all the values of each element"
      ]
    },
    {
      "cell_type": "code",
      "metadata": {
        "colab": {
          "base_uri": "https://localhost:8080/"
        },
        "id": "MUaSDWA3nVTO",
        "outputId": "47ea359a-d715-48d0-9a31-d05458f56ba6"
      },
      "source": [
        "# Double all the values of the elements in Question 1\n",
        "\n",
        "print(C * 2)"
      ],
      "execution_count": 5,
      "outputs": [
        {
          "output_type": "stream",
          "name": "stdout",
          "text": [
            "[[2. 0. 0. 0.]\n",
            " [0. 2. 0. 0.]\n",
            " [0. 0. 2. 0.]\n",
            " [0. 0. 0. 2.]]\n"
          ]
        }
      ]
    },
    {
      "cell_type": "markdown",
      "metadata": {
        "id": "tnrW97uxoJDb"
      },
      "source": [
        "## Question 3 : cross-product of matrices, A = [2,7,4] and B = [3,9,8]\n"
      ]
    },
    {
      "cell_type": "code",
      "metadata": {
        "colab": {
          "base_uri": "https://localhost:8080/"
        },
        "id": "Kb_hN-gyoUrH",
        "outputId": "341f7323-3c97-4a3e-be3a-ab5deef282ce"
      },
      "source": [
        "A = [2,7,4]\n",
        "B = [3,9,8]\n",
        "\n",
        "# cross product\n",
        "answer = np.cross(A,B)\n",
        "print(answer)"
      ],
      "execution_count": 6,
      "outputs": [
        {
          "output_type": "stream",
          "name": "stdout",
          "text": [
            "[20 -4 -3]\n"
          ]
        }
      ]
    }
  ]
}