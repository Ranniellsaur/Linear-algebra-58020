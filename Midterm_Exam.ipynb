{
  "nbformat": 4,
  "nbformat_minor": 0,
  "metadata": {
    "colab": {
      "name": "Midterm Exam.ipynb",
      "provenance": [],
      "authorship_tag": "ABX9TyP9tvl5PIjAFJRMkaPWCwJ/",
      "include_colab_link": true
    },
    "kernelspec": {
      "name": "python3",
      "display_name": "Python 3"
    },
    "language_info": {
      "name": "python"
    }
  },
  "cells": [
    {
      "cell_type": "markdown",
      "metadata": {
        "id": "view-in-github",
        "colab_type": "text"
      },
      "source": [
        "<a href=\"https://colab.research.google.com/github/Ranniellsaur/Linear-algebra-58020/blob/main/Midterm_Exam.ipynb\" target=\"_parent\"><img src=\"https://colab.research.google.com/assets/colab-badge.svg\" alt=\"Open In Colab\"/></a>"
      ]
    },
    {
      "cell_type": "markdown",
      "metadata": {
        "id": "ZjYXCXOg5JdI"
      },
      "source": [
        "## Midterm Exam"
      ]
    },
    {
      "cell_type": "code",
      "metadata": {
        "colab": {
          "base_uri": "https://localhost:8080/"
        },
        "id": "taJHRNgR5Onr",
        "outputId": "61c9aa7a-2e9b-4c2f-b193-bb1dd2282847"
      },
      "source": [
        "# Create a python code that displays a square matrix whose length is 5\n",
        "\n",
        "import numpy as np   # import numpy module\n",
        "\n",
        "square_matrix = np.array([[1,2,3,4,5],[6,7,8,9,10],[11,12,13,14,15],[16,17,18,19,20],[21,22,23,24,25]]) # 5x5 matrix\n",
        "print(square_matrix) # display square matrix\n"
      ],
      "execution_count": 16,
      "outputs": [
        {
          "output_type": "stream",
          "name": "stdout",
          "text": [
            "[[ 1  2  3  4  5]\n",
            " [ 6  7  8  9 10]\n",
            " [11 12 13 14 15]\n",
            " [16 17 18 19 20]\n",
            " [21 22 23 24 25]]\n"
          ]
        }
      ]
    },
    {
      "cell_type": "code",
      "metadata": {
        "colab": {
          "base_uri": "https://localhost:8080/"
        },
        "id": "9ZSVcB1B6wl4",
        "outputId": "dcd117ec-fc78-49a3-cf4f-b74a7d751c9a"
      },
      "source": [
        "# Create a Python code that displays a square matrix whose elements below the principal diagonal are zero\n",
        "\n",
        "square_matrix = np.array([[1,2,3,4,5],[6,7,8,9,10],[11,12,13,14,15],[16,17,18,19,20],[21,22,23,24,25]]) # 5x5 matrix\n",
        "print(np.triu(square_matrix))"
      ],
      "execution_count": 17,
      "outputs": [
        {
          "output_type": "stream",
          "name": "stdout",
          "text": [
            "[[ 1  2  3  4  5]\n",
            " [ 0  7  8  9 10]\n",
            " [ 0  0 13 14 15]\n",
            " [ 0  0  0 19 20]\n",
            " [ 0  0  0  0 25]]\n"
          ]
        }
      ]
    },
    {
      "cell_type": "code",
      "metadata": {
        "colab": {
          "base_uri": "https://localhost:8080/"
        },
        "id": "8HEQ1Wgb6xOY",
        "outputId": "e871026c-c282-446d-c8ae-095cdb4d0389"
      },
      "source": [
        "# Create a Python code that displays a square matrix which is symmetrical \n",
        "A = np.array([[1,2,3],[4,5,6],[7,8,9]])\n",
        "print(A.T) # Transpose of matrix A\n",
        "B = np.matmul(A,A.T)\n",
        "print(B) # Transpose of matrix A\n"
      ],
      "execution_count": 14,
      "outputs": [
        {
          "output_type": "stream",
          "name": "stdout",
          "text": [
            "[[1 4 7]\n",
            " [2 5 8]\n",
            " [3 6 9]]\n",
            "[[ 14  32  50]\n",
            " [ 32  77 122]\n",
            " [ 50 122 194]]\n"
          ]
        }
      ]
    },
    {
      "cell_type": "code",
      "metadata": {
        "colab": {
          "base_uri": "https://localhost:8080/"
        },
        "id": "uFwNW4L96xo3",
        "outputId": "2584a91b-ab4c-4290-a91d-ac22768116e8"
      },
      "source": [
        "# What is the inverse of matrix C? Show your solution by python coding\n",
        "\n",
        "C = np.array([[1,2,3],[2,3,3],[3,4,-2]]) # initial matrix\n",
        "Inv_C = np.linalg.inv(C)  # inverse of matrix C\n",
        "print(Inv_C) # Display  inverse of matrix C"
      ],
      "execution_count": 6,
      "outputs": [
        {
          "output_type": "stream",
          "name": "stdout",
          "text": [
            "[[-3.6  3.2 -0.6]\n",
            " [ 2.6 -2.2  0.6]\n",
            " [-0.2  0.4 -0.2]]\n"
          ]
        }
      ]
    },
    {
      "cell_type": "code",
      "metadata": {
        "colab": {
          "base_uri": "https://localhost:8080/"
        },
        "id": "3mqVXitj6yCM",
        "outputId": "16d35616-d750-470b-c9a6-b0827315c253"
      },
      "source": [
        "# What is the determinant of the given matrix in Question 4? Show your solution by python coding.\n",
        "\n",
        "C = np.array([[1,2,3],[2,3,3],[3,4,-2]]) # matrix in question 4\n",
        "print(round(np.linalg.det(C))) # display the rounded result of determinant of the matrix C \n"
      ],
      "execution_count": 8,
      "outputs": [
        {
          "output_type": "stream",
          "name": "stdout",
          "text": [
            "5\n"
          ]
        }
      ]
    },
    {
      "cell_type": "code",
      "metadata": {
        "colab": {
          "base_uri": "https://localhost:8080/"
        },
        "id": "FRCJpTve6ydI",
        "outputId": "ba885b58-e8c3-49c9-e1e0-19e05fa47c18"
      },
      "source": [
        "#  Find the roots of the linear equations by showing its python codes \n",
        "\n",
        "A = np.array([[5,4,1],[10,9,4],[10,13,15]]) \n",
        "inv_A = np.linalg.inv(A) # inverse of the given matrix\n",
        "B = np.array([[3.4],[8.8],[19.2]]) \n",
        "C = np.dot(inv_A,B) # dot product\n",
        "print(C) # display result matrix"
      ],
      "execution_count": 11,
      "outputs": [
        {
          "output_type": "stream",
          "name": "stdout",
          "text": [
            "[[0.2]\n",
            " [0.4]\n",
            " [0.8]]\n"
          ]
        }
      ]
    }
  ]
}