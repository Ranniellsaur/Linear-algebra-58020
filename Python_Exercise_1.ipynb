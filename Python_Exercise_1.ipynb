{
  "nbformat": 4,
  "nbformat_minor": 0,
  "metadata": {
    "colab": {
      "name": "Python Exercise 1.ipynb",
      "provenance": [],
      "authorship_tag": "ABX9TyOrrCyZESBefXUEyrwebVIM",
      "include_colab_link": true
    },
    "kernelspec": {
      "name": "python3",
      "display_name": "Python 3"
    },
    "language_info": {
      "name": "python"
    }
  },
  "cells": [
    {
      "cell_type": "markdown",
      "metadata": {
        "id": "view-in-github",
        "colab_type": "text"
      },
      "source": [
        "<a href=\"https://colab.research.google.com/github/Ranniellsaur/Linear-algebra-58020/blob/main/Python_Exercise_1.ipynb\" target=\"_parent\"><img src=\"https://colab.research.google.com/assets/colab-badge.svg\" alt=\"Open In Colab\"/></a>"
      ]
    },
    {
      "cell_type": "markdown",
      "metadata": {
        "id": "QDXBjBdiOnV3"
      },
      "source": [
        "## Matrix and its Operations"
      ]
    },
    {
      "cell_type": "code",
      "metadata": {
        "id": "-ULOlx_ZOsPv"
      },
      "source": [
        "import numpy as np"
      ],
      "execution_count": null,
      "outputs": []
    },
    {
      "cell_type": "code",
      "metadata": {
        "id": "BMeOxsy-Ou8i"
      },
      "source": [
        "A = np.array([[-5,0],[4,1]])\n",
        "B = np.array([[6,-3],[2,3]])"
      ],
      "execution_count": null,
      "outputs": []
    },
    {
      "cell_type": "markdown",
      "metadata": {
        "id": "B9WcPMIsOyVS"
      },
      "source": [
        "## Sum of Matrices"
      ]
    },
    {
      "cell_type": "code",
      "metadata": {
        "id": "jI03WGgtOy77"
      },
      "source": [
        "sum = A+B\n",
        "print(sum)"
      ],
      "execution_count": null,
      "outputs": []
    },
    {
      "cell_type": "markdown",
      "metadata": {
        "id": "0VMA9lGOO3ks"
      },
      "source": [
        "## Difference of Matrices"
      ]
    },
    {
      "cell_type": "code",
      "metadata": {
        "id": "fkttzZ-bO5o-"
      },
      "source": [
        "## Difference 1\n",
        "difference1 = A-B\n",
        "print(difference1)\n",
        "## Difference2\n",
        "difference2 = B - B\n",
        "print(difference2)"
      ],
      "execution_count": null,
      "outputs": []
    }
  ]
}