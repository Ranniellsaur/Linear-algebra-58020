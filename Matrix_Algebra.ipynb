{
  "nbformat": 4,
  "nbformat_minor": 0,
  "metadata": {
    "colab": {
      "name": "Matrix Algebra.ipynb",
      "provenance": [],
      "authorship_tag": "ABX9TyNu8hRaemVMt/KZHz9yJLE0",
      "include_colab_link": true
    },
    "kernelspec": {
      "name": "python3",
      "display_name": "Python 3"
    },
    "language_info": {
      "name": "python"
    }
  },
  "cells": [
    {
      "cell_type": "markdown",
      "metadata": {
        "id": "view-in-github",
        "colab_type": "text"
      },
      "source": [
        "<a href=\"https://colab.research.google.com/github/Ranniellsaur/Linear-algebra-58020/blob/main/Matrix_Algebra.ipynb\" target=\"_parent\"><img src=\"https://colab.research.google.com/assets/colab-badge.svg\" alt=\"Open In Colab\"/></a>"
      ]
    },
    {
      "cell_type": "markdown",
      "metadata": {
        "id": "6BMcHPQ1hoWc"
      },
      "source": [
        "## Python program to inverse"
      ]
    },
    {
      "cell_type": "markdown",
      "metadata": {
        "id": "wdxrNplGiJXL"
      },
      "source": [
        "## Python program to inverse a 3x3 matrix "
      ]
    },
    {
      "cell_type": "code",
      "metadata": {
        "colab": {
          "base_uri": "https://localhost:8080/"
        },
        "id": "1aDhzZPQZkdI",
        "outputId": "8e9794b3-6486-484f-b852-016cb85377e4"
      },
      "source": [
        "import numpy as np # import numpy module to use its functions\n",
        "\n",
        "# inverse\n",
        "A = np.array([[1,2,3],# create 3x3 array\n",
        "              [4,9,6],\n",
        "              [7,8,9]]) \n",
        "inverse_of_A = np.linalg.inv(A) # inverse the given 3x3 matrix then assign it to another variable\n",
        "print(\"The inverse array is \")\n",
        "print(inverse_of_A) # display the inversed matrix\n",
        "print()\n",
        "\n",
        "# transpose\n",
        "transpose_of_A = np.dot(A, inverse_of_A) # use dot() func to get transpose of the given 3x3 matrix\n",
        "print(\"The transpose array is \")\n",
        "print(transpose_of_A) # display the transposed matrix\n",
        "\n",
        "\n",
        "\n"
      ],
      "execution_count": 28,
      "outputs": [
        {
          "output_type": "stream",
          "name": "stdout",
          "text": [
            "The inverse array is \n",
            "[[-0.6875     -0.125       0.3125    ]\n",
            " [-0.125       0.25       -0.125     ]\n",
            " [ 0.64583333 -0.125      -0.02083333]]\n",
            "\n",
            "The transpose array is \n"
          ]
        }
      ]
    },
    {
      "cell_type": "markdown",
      "metadata": {
        "id": "MI7r8qkZiXiA"
      },
      "source": [
        "## Python program to inverse a 4x4 matrix"
      ]
    },
    {
      "cell_type": "code",
      "metadata": {
        "colab": {
          "base_uri": "https://localhost:8080/"
        },
        "id": "nwV-Vk8EiWWP",
        "outputId": "5852ed45-759a-4d40-af5b-0db4fa8e04c8"
      },
      "source": [
        "B = np.array([[1, 2, 3, 4],  # Create  4x4 array\n",
        "                [10, 11, 14, 25],\n",
        "                [20, 8, 7, 55], \n",
        "                [40, 41, 42, 43]])\n",
        "\n",
        "# inverse\n",
        "inverse_of_B =  np.linalg.inv(B)  # inverse the given 4x4 matrix then assign it to another variable\n",
        "print(\"The inverse array is \") \n",
        "print(inverse_of_B) # display the inverse matrix\n",
        "print()\n",
        "\n",
        "# transpose\n",
        "transpose_of_B = np.dot(B, inverse_of_B) # use dot() func to get transpose of the given 3x3 matrix\n",
        "print(\"The transpose array is \")\n",
        "print(transpose_of_B) # display the transposed matrix"
      ],
      "execution_count": 29,
      "outputs": [
        {
          "output_type": "stream",
          "name": "stdout",
          "text": [
            "The inverse array is \n",
            "[[-15.07692308   4.9         -0.8         -0.42307692]\n",
            " [ 32.48717949 -10.9          1.8          1.01282051]\n",
            " [-20.84615385   7.1         -1.2         -0.65384615]\n",
            " [  3.41025641  -1.1          0.2          0.08974359]]\n",
            "\n",
            "The transpose array is \n",
            "[[ 1.00000000e+00  0.00000000e+00  3.33066907e-16  2.22044605e-16]\n",
            " [ 8.43769499e-15  1.00000000e+00  1.08246745e-15  2.49800181e-16]\n",
            " [-4.39648318e-14 -1.99840144e-15  1.00000000e+00  1.94289029e-16]\n",
            " [-4.57411886e-14  1.66533454e-14 -2.08166817e-15  1.00000000e+00]]\n"
          ]
        }
      ]
    }
  ]
}