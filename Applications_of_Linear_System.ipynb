{
  "nbformat": 4,
  "nbformat_minor": 0,
  "metadata": {
    "colab": {
      "name": "Applications of Linear System.ipynb",
      "provenance": [],
      "authorship_tag": "ABX9TyOWwjkdGX/5dUybdiDY4G5v",
      "include_colab_link": true
    },
    "kernelspec": {
      "name": "python3",
      "display_name": "Python 3"
    },
    "language_info": {
      "name": "python"
    }
  },
  "cells": [
    {
      "cell_type": "markdown",
      "metadata": {
        "id": "view-in-github",
        "colab_type": "text"
      },
      "source": [
        "<a href=\"https://colab.research.google.com/github/Ranniellsaur/Linear-algebra-58020/blob/main/Applications_of_Linear_System.ipynb\" target=\"_parent\"><img src=\"https://colab.research.google.com/assets/colab-badge.svg\" alt=\"Open In Colab\"/></a>"
      ]
    },
    {
      "cell_type": "markdown",
      "metadata": {
        "id": "qW5U3NP0XzM5"
      },
      "source": [
        "##Systems of Linear Equations"
      ]
    },
    {
      "cell_type": "markdown",
      "metadata": {
        "id": "lt4aEBrlX72-"
      },
      "source": [
        "###Systems of Linear Equations can be solved with arrays and NumPy"
      ]
    },
    {
      "cell_type": "code",
      "metadata": {
        "colab": {
          "base_uri": "https://localhost:8080/"
        },
        "id": "bndVwMozXZIw",
        "outputId": "1fa95f76-615f-47db-f5c5-3a3c70c6ffc5"
      },
      "source": [
        "import numpy as np\n",
        "\n",
        "A = np.array([[4,5],[3,-2]])\n",
        "print(A)\n",
        "B = np.array([[7],[11]])\n",
        "print(B)\n",
        "\n",
        "inv_A = np.linalg.inv(A)\n",
        "print(inv_A)\n",
        "X = np.dot(inv_A,B)\n",
        "print(X)"
      ],
      "execution_count": 6,
      "outputs": [
        {
          "output_type": "stream",
          "name": "stdout",
          "text": [
            "[[ 4  5]\n",
            " [ 3 -2]]\n",
            "[[ 7]\n",
            " [11]]\n",
            "[[ 0.08695652  0.2173913 ]\n",
            " [ 0.13043478 -0.17391304]]\n",
            "[[ 3.]\n",
            " [-1.]]\n"
          ]
        }
      ]
    },
    {
      "cell_type": "code",
      "metadata": {
        "colab": {
          "base_uri": "https://localhost:8080/"
        },
        "id": "S29aQRWDbz4h",
        "outputId": "96449175-21f1-40d5-dfdd-51c342ca4aa9"
      },
      "source": [
        "inv_A = np.linalg.inv(A)\n",
        "print(inv_A)\n",
        "\n",
        "X = np.dot(inv_A,B)\n",
        "print(X)"
      ],
      "execution_count": 7,
      "outputs": [
        {
          "output_type": "stream",
          "name": "stdout",
          "text": [
            "[[ 0.08695652  0.2173913 ]\n",
            " [ 0.13043478 -0.17391304]]\n",
            "[[ 3.]\n",
            " [-1.]]\n"
          ]
        }
      ]
    },
    {
      "cell_type": "code",
      "metadata": {
        "colab": {
          "base_uri": "https://localhost:8080/"
        },
        "id": "ZmAl_OGAckiA",
        "outputId": "e80601b2-1e6d-4c04-d6aa-d50c1dc8b383"
      },
      "source": [
        "X = np.linalg.solve(A,B)\n",
        "print(X)"
      ],
      "execution_count": 9,
      "outputs": [
        {
          "output_type": "stream",
          "name": "stdout",
          "text": [
            "[[ 3.]\n",
            " [-1.]]\n"
          ]
        }
      ]
    },
    {
      "cell_type": "code",
      "metadata": {
        "colab": {
          "base_uri": "https://localhost:8080/"
        },
        "id": "MGOptV_BeXS8",
        "outputId": "6cdd0373-1e74-4758-a3ad-4e4933194aef"
      },
      "source": [
        "from scipy.linalg import solve\n",
        "X = solve(A,B)\n",
        "print(X)"
      ],
      "execution_count": 13,
      "outputs": [
        {
          "output_type": "stream",
          "name": "stdout",
          "text": [
            "[[ 3.]\n",
            " [-1.]]\n"
          ]
        }
      ]
    }
  ]
}