{
  "nbformat": 4,
  "nbformat_minor": 0,
  "metadata": {
    "colab": {
      "name": "Vector Representation.ipynb",
      "provenance": [],
      "authorship_tag": "ABX9TyPsOskwnURrpPdpVSYSA3a2",
      "include_colab_link": true
    },
    "kernelspec": {
      "name": "python3",
      "display_name": "Python 3"
    },
    "language_info": {
      "name": "python"
    }
  },
  "cells": [
    {
      "cell_type": "markdown",
      "metadata": {
        "id": "view-in-github",
        "colab_type": "text"
      },
      "source": [
        "<a href=\"https://colab.research.google.com/github/Ranniellsaur/Linear-algebra-58020/blob/main/Vector_Representation.ipynb\" target=\"_parent\"><img src=\"https://colab.research.google.com/assets/colab-badge.svg\" alt=\"Open In Colab\"/></a>"
      ]
    },
    {
      "cell_type": "markdown",
      "metadata": {
        "id": "-unqTDM7BYQA"
      },
      "source": [
        "#Matrix and its Operations"
      ]
    },
    {
      "cell_type": "code",
      "metadata": {
        "colab": {
          "base_uri": "https://localhost:8080/"
        },
        "id": "ueX0gnLTBa9I",
        "outputId": "e9ac9628-bcea-43e4-89e4-a003d3da5295"
      },
      "source": [
        "import numpy as np\n",
        "\n",
        "\n",
        "#create a 1x3 array\n",
        "a = np.array([1,2,3])\n",
        "print(a)"
      ],
      "execution_count": 4,
      "outputs": [
        {
          "output_type": "stream",
          "name": "stdout",
          "text": [
            "[1 2 3]\n"
          ]
        }
      ]
    },
    {
      "cell_type": "code",
      "metadata": {
        "colab": {
          "base_uri": "https://localhost:8080/"
        },
        "id": "BkTk91AjBe7o",
        "outputId": "f949e97e-c200-4560-e617-2f4dcf34f62a"
      },
      "source": [
        "#Create a 2 x 3 matrix\n",
        "b = np.array([[1,2,3],[4,5,6]]) # This is an example of rectangular matrix\n",
        "print(b)\n"
      ],
      "execution_count": 6,
      "outputs": [
        {
          "output_type": "stream",
          "name": "stdout",
          "text": [
            "[[1 2 3]\n",
            " [4 5 6]]\n"
          ]
        }
      ]
    },
    {
      "cell_type": "code",
      "metadata": {
        "id": "hAbv6eCEDtaf"
      },
      "source": [
        ""
      ],
      "execution_count": null,
      "outputs": []
    },
    {
      "cell_type": "code",
      "metadata": {
        "colab": {
          "base_uri": "https://localhost:8080/"
        },
        "id": "RHSA8tIoCuMZ",
        "outputId": "e6377d58-e617-43bb-d2c5-f24c5b1ab44f"
      },
      "source": [
        "#Create 3 x 3 matrix\n",
        "c = np.array([[1,2,3],[4,5,6],[7,8,9]])\n",
        "print(c)"
      ],
      "execution_count": 8,
      "outputs": [
        {
          "output_type": "stream",
          "name": "stdout",
          "text": [
            "[[1 2 3]\n",
            " [4 5 6]\n",
            " [7 8 9]]\n"
          ]
        }
      ]
    },
    {
      "cell_type": "code",
      "metadata": {
        "colab": {
          "base_uri": "https://localhost:8080/"
        },
        "id": "DS0RlnXwDHK5",
        "outputId": "c0fc83b1-def1-4f13-c950-b772240237fe"
      },
      "source": [
        "#Create a constant array with all values are  6\n",
        "d = np.full((4,4), 6) # This is an example of square matrix\n",
        "print(d)"
      ],
      "execution_count": 9,
      "outputs": [
        {
          "output_type": "stream",
          "name": "stdout",
          "text": [
            "[[6 6 6 6]\n",
            " [6 6 6 6]\n",
            " [6 6 6 6]\n",
            " [6 6 6 6]]\n"
          ]
        }
      ]
    },
    {
      "cell_type": "code",
      "metadata": {
        "colab": {
          "base_uri": "https://localhost:8080/"
        },
        "id": "dw5cPUFQDyUK",
        "outputId": "45b1f300-96cd-4881-8575-507f1abc2662"
      },
      "source": [
        "#Create a diagonal matrix\n",
        "e = np.diagonal([[1,2,3],[4,5,6],[7,8,9]])\n",
        "print(e)"
      ],
      "execution_count": 10,
      "outputs": [
        {
          "output_type": "stream",
          "name": "stdout",
          "text": [
            "[1 5 9]\n"
          ]
        }
      ]
    },
    {
      "cell_type": "code",
      "metadata": {
        "colab": {
          "base_uri": "https://localhost:8080/"
        },
        "id": "8_a0ueAFEqms",
        "outputId": "21a729a0-4e0c-4417-d1f7-6586aee9e471"
      },
      "source": [
        "#Create a identity matrix\n",
        "f = np.eye(4)\n",
        "print(f)"
      ],
      "execution_count": 11,
      "outputs": [
        {
          "output_type": "stream",
          "name": "stdout",
          "text": [
            "[[1. 0. 0. 0.]\n",
            " [0. 1. 0. 0.]\n",
            " [0. 0. 1. 0.]\n",
            " [0. 0. 0. 1.]]\n"
          ]
        }
      ]
    },
    {
      "cell_type": "code",
      "metadata": {
        "colab": {
          "base_uri": "https://localhost:8080/"
        },
        "id": "4t3bqJPBFRmv",
        "outputId": "cc5f99f0-2a40-43fa-d9e7-231baba29f54"
      },
      "source": [
        "#Create a zero matrix\n",
        "g = np.zeros((4,5))\n",
        "print(g)"
      ],
      "execution_count": 12,
      "outputs": [
        {
          "output_type": "stream",
          "name": "stdout",
          "text": [
            "[[0. 0. 0. 0. 0.]\n",
            " [0. 0. 0. 0. 0.]\n",
            " [0. 0. 0. 0. 0.]\n",
            " [0. 0. 0. 0. 0.]]\n"
          ]
        }
      ]
    },
    {
      "cell_type": "code",
      "metadata": {
        "colab": {
          "base_uri": "https://localhost:8080/"
        },
        "id": "GHtAeOBHFb8F",
        "outputId": "8a33b83d-3cdb-422b-ee79-0dfff35ef509"
      },
      "source": [
        "#Create a empty matrix\n",
        "h = np.empty((0,5))\n",
        "print(h)"
      ],
      "execution_count": 13,
      "outputs": [
        {
          "output_type": "stream",
          "name": "stdout",
          "text": [
            "[]\n"
          ]
        }
      ]
    },
    {
      "cell_type": "code",
      "metadata": {
        "colab": {
          "base_uri": "https://localhost:8080/"
        },
        "id": "eUbJ7-SpFxEL",
        "outputId": "5a96bfa8-977d-42d9-a58c-399dab8c1f7e"
      },
      "source": [
        "#Addition of matrix\n",
        "i = np.array([[1,2,3],[4,5,6]])\n",
        "j = np.zeros((2,3))\n",
        "print(i + j)"
      ],
      "execution_count": 15,
      "outputs": [
        {
          "output_type": "stream",
          "name": "stdout",
          "text": [
            "[[1. 2. 3.]\n",
            " [4. 5. 6.]]\n"
          ]
        }
      ]
    }
  ]
}