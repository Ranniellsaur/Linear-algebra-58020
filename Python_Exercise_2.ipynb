{
  "nbformat": 4,
  "nbformat_minor": 0,
  "metadata": {
    "colab": {
      "name": "Python Exercise 2.ipynb",
      "provenance": [],
      "collapsed_sections": [],
      "authorship_tag": "ABX9TyOdYd4SWURlZnrePxGbyFiA",
      "include_colab_link": true
    },
    "kernelspec": {
      "name": "python3",
      "display_name": "Python 3"
    },
    "language_info": {
      "name": "python"
    }
  },
  "cells": [
    {
      "cell_type": "markdown",
      "metadata": {
        "id": "view-in-github",
        "colab_type": "text"
      },
      "source": [
        "<a href=\"https://colab.research.google.com/github/Ranniellsaur/Linear-algebra-58020/blob/main/Python_Exercise_2.ipynb\" target=\"_parent\"><img src=\"https://colab.research.google.com/assets/colab-badge.svg\" alt=\"Open In Colab\"/></a>"
      ]
    },
    {
      "cell_type": "code",
      "metadata": {
        "id": "sB1Q1wwVQCX5"
      },
      "source": [
        "## Vector space Operations"
      ],
      "execution_count": null,
      "outputs": []
    },
    {
      "cell_type": "code",
      "metadata": {
        "id": "WoPhz_5FQIK0"
      },
      "source": [
        "import numpy as np"
      ],
      "execution_count": null,
      "outputs": []
    },
    {
      "cell_type": "code",
      "metadata": {
        "id": "OkRR__o2QKYq"
      },
      "source": [
        "A = np.array([4,3])\n",
        "B = np.array([2,-5])"
      ],
      "execution_count": null,
      "outputs": []
    },
    {
      "cell_type": "code",
      "metadata": {
        "id": "wNZ3mThxQMEE"
      },
      "source": [
        "print('Vector A is ', A)\n",
        "print('Vector b is ', B)"
      ],
      "execution_count": null,
      "outputs": []
    },
    {
      "cell_type": "markdown",
      "metadata": {
        "id": "zVqyCpO2Qa2Y"
      },
      "source": [
        "## Vector size, dimension, and shape"
      ]
    },
    {
      "cell_type": "code",
      "metadata": {
        "id": "kmAUmzawQOkc"
      },
      "source": [
        "ball1 = np.array([1,2,3])\n",
        "ball2 = np.array([0,1,-1])\n",
        "\n",
        "pool = np.array([ball1, ball2])\n",
        "print(\"Shape: \",pool.shape)\n",
        "print(\"Size: \",pool.size)\n",
        "print(\"Dimension: \",pool.ndim)\n",
        "print(\"Matrix: \\n\",pool)"
      ],
      "execution_count": null,
      "outputs": []
    },
    {
      "cell_type": "markdown",
      "metadata": {
        "id": "Du3f94_FQRIC"
      },
      "source": [
        "## Vector Operation"
      ]
    },
    {
      "cell_type": "code",
      "metadata": {
        "id": "JOeJUAVUQTBe"
      },
      "source": [
        "R = A +  B\n",
        "R"
      ],
      "execution_count": null,
      "outputs": []
    },
    {
      "cell_type": "code",
      "metadata": {
        "id": "sRPLlFxPQgN5"
      },
      "source": [
        "R = np.add(A,B)\n",
        "R"
      ],
      "execution_count": null,
      "outputs": []
    },
    {
      "cell_type": "code",
      "metadata": {
        "id": "VjqsaSwJQk32"
      },
      "source": [
        "R = np.subtract(A,B)\n",
        "R"
      ],
      "execution_count": null,
      "outputs": []
    },
    {
      "cell_type": "markdown",
      "metadata": {
        "id": "9D96t-NjQl79"
      },
      "source": [
        "## VEctor Scaling"
      ]
    },
    {
      "cell_type": "markdown",
      "metadata": {
        "id": "Rn38HirMQo7Q"
      },
      "source": [
        "A = np.array([1,5,8,9])\n",
        "S = 5 * A\n",
        "print(\"5 *\",A)\n",
        "print(S)S = np.multiply(5,A)\n",
        "S"
      ]
    },
    {
      "cell_type": "markdown",
      "metadata": {
        "id": "fSgLYigkQtnr"
      },
      "source": [
        "## Vector Cross product"
      ]
    },
    {
      "cell_type": "code",
      "metadata": {
        "id": "fv0ylfX-QyxK"
      },
      "source": [
        "#initialize arrays\n",
        "A = np.array([2,7])\n",
        "B = np.array([1,7])\n",
        "\n",
        "#computefor the cross product\n",
        "output = np.cross(A,B)\n",
        "\n",
        "print(\"A:\",A,\"\\tB:\",B)\n",
        "print(output)"
      ],
      "execution_count": null,
      "outputs": []
    },
    {
      "cell_type": "markdown",
      "metadata": {
        "id": "Noy6irkiQ0in"
      },
      "source": [
        "## Vector dot product"
      ]
    },
    {
      "cell_type": "code",
      "metadata": {
        "id": "uGvKTb-GQ2Bp"
      },
      "source": [
        "output = np.dot(A,B)\n",
        "output"
      ],
      "execution_count": null,
      "outputs": []
    }
  ]
}