{
  "nbformat": 4,
  "nbformat_minor": 0,
  "metadata": {
    "colab": {
      "name": "Linear_Transformation_demo_2.ipynb",
      "provenance": [],
      "authorship_tag": "ABX9TyMiKVbJj3PLC5TqXJFvmUkg",
      "include_colab_link": true
    },
    "kernelspec": {
      "name": "python3",
      "display_name": "Python 3"
    },
    "language_info": {
      "name": "python"
    }
  },
  "cells": [
    {
      "cell_type": "markdown",
      "metadata": {
        "id": "view-in-github",
        "colab_type": "text"
      },
      "source": [
        "<a href=\"https://colab.research.google.com/github/Ranniellsaur/Linear-algebra-58020/blob/main/Linear_Transformation_demo_2.ipynb\" target=\"_parent\"><img src=\"https://colab.research.google.com/assets/colab-badge.svg\" alt=\"Open In Colab\"/></a>"
      ]
    },
    {
      "cell_type": "code",
      "metadata": {
        "colab": {
          "base_uri": "https://localhost:8080/"
        },
        "id": "x-tuGW9zgZ_X",
        "outputId": "a29afa18-8863-4d08-fd73-fa22fa4d9ad3"
      },
      "source": [
        "import numpy as np\n",
        "\n",
        "A = np.array([[4, 10, 8], [10, 26, 26], [8, 26, 61]])\n",
        "print(A)\n",
        "B = np.array([[44], [128], [214]])\n",
        "print(B)\n",
        "#AA^-1X = BA^-1\n",
        "\n",
        "## Solving for the inverse of A\n",
        "A_inv = np.linalg.inv(A)\n",
        "print(A_inv)\n",
        "\n",
        "## Solving for BA^-1\n",
        "X = np.dot(A_inv, B)\n",
        "print(X)\n"
      ],
      "execution_count": 4,
      "outputs": [
        {
          "output_type": "stream",
          "name": "stdout",
          "text": [
            "[[ 4 10  8]\n",
            " [10 26 26]\n",
            " [ 8 26 61]]\n",
            "[[ 44]\n",
            " [128]\n",
            " [214]]\n",
            "[[ 25.27777778 -11.16666667   1.44444444]\n",
            " [-11.16666667   5.          -0.66666667]\n",
            " [  1.44444444  -0.66666667   0.11111111]]\n",
            "[[-8.]\n",
            " [ 6.]\n",
            " [ 2.]]\n"
          ]
        }
      ]
    }
  ]
}